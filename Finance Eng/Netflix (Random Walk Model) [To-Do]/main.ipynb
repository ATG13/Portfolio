{
 "cells": [
  {
   "cell_type": "markdown",
   "id": "57411c9f-4e7a-4651-a57d-ba92cac99b32",
   "metadata": {},
   "source": [
    "# Random walk model on netflix stock\n",
    "\n",
    "**Objective:** Build a gaussian random walk model for netflix stock.\n",
    "\n",
    "**Why ?**\n",
    "To learn how to make and build random walk models in python and test model results."
   ]
  },
  {
   "cell_type": "code",
   "execution_count": 1,
   "id": "e0e5c012-780d-41fd-ba1e-d48a4b0c0e20",
   "metadata": {},
   "outputs": [],
   "source": [
    "# importing libraries\n",
    "import yfinance as yf\n",
    "import numpy as npb\n",
    "import matplotlib.pyplot as plt\n",
    "import pandas as pd"
   ]
  },
  {
   "cell_type": "code",
   "execution_count": 2,
   "id": "f343846c-1d94-4183-9af2-c519255e1fd7",
   "metadata": {},
   "outputs": [],
   "source": [
    "# Configuration\n",
    "ticker = 'NFLX'\n",
    "start_date = '2005-10-01'\n",
    "end_date = '2006-10-01'\n",
    "sim = 100\n",
    "days = 100"
   ]
  },
  {
   "cell_type": "markdown",
   "id": "8005298e-5a72-4a1a-bcb3-d1cb37156986",
   "metadata": {},
   "source": [
    "Cherry picked a time when netflix stock was flat for about a year, didnt want to work with random walk with drift at an early stage."
   ]
  },
  {
   "cell_type": "code",
   "execution_count": 3,
   "id": "2e640fa1-7c35-49f7-a369-0e2501e8f940",
   "metadata": {},
   "outputs": [
    {
     "name": "stdout",
     "output_type": "stream",
     "text": [
      "YF.download() has changed argument auto_adjust default to True\n"
     ]
    },
    {
     "name": "stderr",
     "output_type": "stream",
     "text": [
      "[*********************100%***********************]  1 of 1 completed\n"
     ]
    }
   ],
   "source": [
    "# Fetching previous data\n",
    "data = yf.download(ticker, start=start_date, end=end_date)"
   ]
  },
  {
   "cell_type": "code",
   "execution_count": 4,
   "id": "0f1001c3-167c-40c7-868c-7f897b2a410a",
   "metadata": {},
   "outputs": [
    {
     "name": "stdout",
     "output_type": "stream",
     "text": [
      "<class 'pandas.core.frame.DataFrame'>\n",
      "DatetimeIndex: 251 entries, 2005-10-03 to 2006-09-29\n",
      "Data columns (total 5 columns):\n",
      " #   Column          Non-Null Count  Dtype  \n",
      "---  ------          --------------  -----  \n",
      " 0   (Close, NFLX)   251 non-null    float64\n",
      " 1   (High, NFLX)    251 non-null    float64\n",
      " 2   (Low, NFLX)     251 non-null    float64\n",
      " 3   (Open, NFLX)    251 non-null    float64\n",
      " 4   (Volume, NFLX)  251 non-null    int64  \n",
      "dtypes: float64(4), int64(1)\n",
      "memory usage: 11.8 KB\n"
     ]
    }
   ],
   "source": [
    "data.info()"
   ]
  },
  {
   "cell_type": "code",
   "execution_count": 5,
   "id": "30c4eada-b835-4ae3-bfd1-8e4a9e4abc65",
   "metadata": {},
   "outputs": [],
   "source": [
    "# Taken only close price data\n",
    "prices= data['Close']"
   ]
  },
  {
   "cell_type": "code",
   "execution_count": 6,
   "id": "d4ab1957-9bd0-4db5-bb82-5307e4b5e5fa",
   "metadata": {},
   "outputs": [],
   "source": [
    "# Calculating daily returns\n",
    "returns = prices.pct_change().dropna()"
   ]
  },
  {
   "cell_type": "code",
   "execution_count": 13,
   "id": "48040c7a-4be5-43db-8d93-39d8ee7469c6",
   "metadata": {},
   "outputs": [
    {
     "name": "stdout",
     "output_type": "stream",
     "text": [
      "Ticker\n",
      "NFLX   -0.000145\n",
      "dtype: float64\n",
      "Ticker\n",
      "NFLX    0.0307\n",
      "dtype: float64\n"
     ]
    }
   ],
   "source": [
    "mu = returns.mean()\n",
    "sigma = returns.std()\n",
    "\n",
    "print(mu)\n",
    "print(sigma)"
   ]
  },
  {
   "cell_type": "code",
   "execution_count": 17,
   "id": "b90e21b5-99e7-4467-a302-f9746b30c5da",
   "metadata": {},
   "outputs": [
    {
     "name": "stderr",
     "output_type": "stream",
     "text": [
      "[*********************100%***********************]  1 of 1 completed"
     ]
    },
    {
     "name": "stdout",
     "output_type": "stream",
     "text": [
      "Fetching historical data for NFLX from 2020-01-01 to 2024-05-27...\n",
      "Data fetched successfully.\n",
      "Last available closing price: 646.75\n",
      "Calculated 1106 daily returns.\n"
     ]
    },
    {
     "name": "stderr",
     "output_type": "stream",
     "text": [
      "\n"
     ]
    },
    {
     "ename": "TypeError",
     "evalue": "unsupported format string passed to Series.__format__",
     "output_type": "error",
     "traceback": [
      "\u001b[31m---------------------------------------------------------------------------\u001b[39m",
      "\u001b[31mTypeError\u001b[39m                                 Traceback (most recent call last)",
      "\u001b[36mCell\u001b[39m\u001b[36m \u001b[39m\u001b[32mIn[17]\u001b[39m\u001b[32m, line 39\u001b[39m\n\u001b[32m     37\u001b[39m mu = returns.mean()\n\u001b[32m     38\u001b[39m sigma = returns.std()\n\u001b[32m---> \u001b[39m\u001b[32m39\u001b[39m \u001b[38;5;28mprint\u001b[39m(\u001b[33mf\u001b[39m\u001b[33m\"\u001b[39m\u001b[33mHistorical Daily Mean Return (mu): \u001b[39m\u001b[38;5;132;43;01m{\u001b[39;49;00m\u001b[43mmu\u001b[49m\u001b[38;5;132;43;01m:\u001b[39;49;00m\u001b[33;43m.6f\u001b[39;49m\u001b[38;5;132;43;01m}\u001b[39;49;00m\u001b[33m\"\u001b[39m)\n\u001b[32m     40\u001b[39m \u001b[38;5;28mprint\u001b[39m(\u001b[33mf\u001b[39m\u001b[33m\"\u001b[39m\u001b[33mHistorical Daily Standard Deviation of Returns (sigma): \u001b[39m\u001b[38;5;132;01m{\u001b[39;00msigma\u001b[38;5;132;01m:\u001b[39;00m\u001b[33m.6f\u001b[39m\u001b[38;5;132;01m}\u001b[39;00m\u001b[33m\"\u001b[39m)\n\u001b[32m     42\u001b[39m \u001b[38;5;66;03m# --- 4. Simulate Future Returns and Prices ---\u001b[39;00m\n\u001b[32m     43\u001b[39m \u001b[38;5;66;03m# Get the last closing price to start the simulation\u001b[39;00m\n",
      "\u001b[31mTypeError\u001b[39m: unsupported format string passed to Series.__format__"
     ]
    }
   ],
   "source": [
    "import yfinance as yf\n",
    "import numpy as np\n",
    "import matplotlib.pyplot as plt\n",
    "import pandas as pd\n",
    "\n",
    "# --- Configuration ---\n",
    "TICKER = \"NFLX\"\n",
    "START_DATE = \"2020-01-01\"\n",
    "END_DATE = \"2024-05-27\" # Using today's date for up-to-date info\n",
    "NUM_SIMULATIONS = 100    # Number of random walk paths to simulate\n",
    "FORECAST_DAYS = 252      # Number of trading days to forecast (approx. 1 year)\n",
    "\n",
    "# --- 1. Fetch Historical Stock Data ---\n",
    "print(f\"Fetching historical data for {TICKER} from {START_DATE} to {END_DATE}...\")\n",
    "try:\n",
    "    data = yf.download(TICKER, start=START_DATE, end=END_DATE)\n",
    "    if data.empty:\n",
    "        raise ValueError(\"No data downloaded. Check ticker symbol or date range.\")\n",
    "    print(\"Data fetched successfully.\")\n",
    "except Exception as e:\n",
    "    print(f\"Error fetching data: {e}\")\n",
    "    print(\"Please ensure you have an active internet connection and the ticker/date range are valid.\")\n",
    "    exit()\n",
    "\n",
    "# Use 'Adj Close' price for consistency, as it accounts for splits and dividends\n",
    "prices = data['Close']\n",
    "# Fix: Ensure the last price is a scalar before formatting\n",
    "print(f\"Last available closing price: {prices.iloc[-1].item():.2f}\")\n",
    "\n",
    "# --- 2. Calculate Daily Returns ---\n",
    "# Calculate daily percentage change (returns)\n",
    "returns = prices.pct_change().dropna()\n",
    "print(f\"Calculated {len(returns)} daily returns.\")\n",
    "\n",
    "# --- 3. Estimate Parameters (Mean and Standard Deviation of Returns) ---\n",
    "# Calculate the mean (mu) and standard deviation (sigma) of historical daily returns\n",
    "mu = returns.mean()\n",
    "sigma = returns.std()\n",
    "print(f\"Historical Daily Mean Return (mu): {mu:.6f}\")\n",
    "print(f\"Historical Daily Standard Deviation of Returns (sigma): {sigma:.6f}\")\n",
    "\n",
    "# --- 4. Simulate Future Returns and Prices ---\n",
    "# Get the last closing price to start the simulation\n",
    "last_price = prices.iloc[-1].item() # Also apply .item() here for consistency\n",
    "\n",
    "# Create a DataFrame to store all simulated paths\n",
    "simulated_prices = pd.DataFrame()\n",
    "\n",
    "print(f\"Simulating {NUM_SIMULATIONS} paths for {FORECAST_DAYS} days...\")\n",
    "for i in range(NUM_SIMULATIONS):\n",
    "    # Generate random daily returns from a normal distribution\n",
    "    # np.random.normal(loc=mean, scale=std_dev, size=number_of_samples)\n",
    "    daily_shocks = np.random.normal(loc=mu, scale=sigma, size=FORECAST_DAYS)\n",
    "\n",
    "    # Initialize a list for the simulated path\n",
    "    path = [last_price]\n",
    "\n",
    "    # Calculate the price for each future day\n",
    "    for shock in daily_shocks:\n",
    "        next_price = path[-1] * (1 + shock)\n",
    "        path.append(next_price)\n",
    "\n",
    "    # Store the simulated path (excluding the initial last_price for plotting clarity)\n",
    "    simulated_prices[f'Simulation_{i+1}'] = path[1:] # Store from the first forecasted day\n",
    "\n",
    "print(\"Simulations complete.\")\n",
    "\n",
    "# --- 5. Visualize Results ---\n",
    "plt.figure(figsize=(12, 7))\n",
    "\n",
    "# Plot all simulated paths\n",
    "plt.plot(simulated_prices, alpha=0.1, color='blue') # Use alpha for transparency\n",
    "\n",
    "# Plot the historical prices\n",
    "historical_dates = prices.index\n",
    "forecast_dates = pd.date_range(start=historical_dates[-1] + pd.Timedelta(days=1), periods=FORECAST_DAYS, freq='B') # Business days\n",
    "plt.plot(historical_dates, prices, color='black', linewidth=2, label='Historical NFLX Price')\n",
    "\n",
    "# Plot the average of the simulated paths\n",
    "plt.plot(forecast_dates, simulated_prices.mean(axis=1), color='red', linewidth=2, label='Average Simulated Price')\n",
    "\n",
    "plt.title(f'Gaussian Random Walk Simulation for {TICKER} Stock Price')\n",
    "plt.xlabel('Date')\n",
    "plt.ylabel('Price (USD)')\n",
    "plt.grid(True, linestyle='--', alpha=0.7)\n",
    "plt.legend()\n",
    "plt.tight_layout()\n",
    "plt.show()\n",
    "\n",
    "# --- Display some summary statistics of the simulations ---\n",
    "print(\"\\n--- Simulation Summary ---\")\n",
    "print(f\"Last actual price: ${last_price:.2f}\")\n",
    "print(f\"Average simulated price after {FORECAST_DAYS} days: ${simulated_prices.iloc[-1].mean():.2f}\")\n",
    "print(f\"Standard deviation of simulated prices after {FORECAST_DAYS} days: ${simulated_prices.iloc[-1].std():.2f}\")\n",
    "print(f\"Min simulated price after {FORECAST_DAYS} days: ${simulated_prices.iloc[-1].min():.2f}\")\n",
    "print(f\"Max simulated price after {FORECAST_DAYS} days: ${simulated_prices.iloc[-1].max():.2f}\")\n"
   ]
  }
 ],
 "metadata": {
  "kernelspec": {
   "display_name": "Python 3 (ipykernel)",
   "language": "python",
   "name": "python3"
  },
  "language_info": {
   "codemirror_mode": {
    "name": "ipython",
    "version": 3
   },
   "file_extension": ".py",
   "mimetype": "text/x-python",
   "name": "python",
   "nbconvert_exporter": "python",
   "pygments_lexer": "ipython3",
   "version": "3.12.3"
  }
 },
 "nbformat": 4,
 "nbformat_minor": 5
}
