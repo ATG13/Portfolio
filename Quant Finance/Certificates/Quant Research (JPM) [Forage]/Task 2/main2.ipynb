{
 "cells": [
  {
   "cell_type": "markdown",
   "id": "36f9a5e0-f536-4b3e-a42c-5d7ee13cd38d",
   "metadata": {},
   "source": [
    "## Libraries"
   ]
  },
  {
   "cell_type": "code",
   "execution_count": 50,
   "id": "0c7e5e2c-e730-42d0-8856-aed618dd8721",
   "metadata": {
    "tags": []
   },
   "outputs": [],
   "source": [
    "import pandas as pd\n",
    "import numpy as np\n",
    "import matplotlib.pyplot as plt\n",
    "from sklearn.linear_model import LinearRegression \n",
    "import datetime as dt\n",
    "import calendar\n",
    "\n",
    "import warnings\n",
    "warnings.filterwarnings('ignore')"
   ]
  },
  {
   "cell_type": "markdown",
   "id": "04a224ce-9f77-4051-bbdd-8472ae52de5f",
   "metadata": {},
   "source": [
    "## Pre-processing"
   ]
  },
  {
   "cell_type": "code",
   "execution_count": 14,
   "id": "e853bac9-136e-41ab-bb4a-df3587186825",
   "metadata": {
    "tags": []
   },
   "outputs": [],
   "source": [
    "data = pd.read_csv(\"Nat_Gas.csv\")\n",
    "data['Dates'] = pd.to_datetime(data['Dates'])"
   ]
  },
  {
   "cell_type": "code",
   "execution_count": 36,
   "id": "33b2eab0-ed83-49d6-a0e4-1998a8c2d1e6",
   "metadata": {
    "tags": []
   },
   "outputs": [
    {
     "data": {
      "text/html": [
       "<div>\n",
       "<style scoped>\n",
       "    .dataframe tbody tr th:only-of-type {\n",
       "        vertical-align: middle;\n",
       "    }\n",
       "\n",
       "    .dataframe tbody tr th {\n",
       "        vertical-align: top;\n",
       "    }\n",
       "\n",
       "    .dataframe thead th {\n",
       "        text-align: right;\n",
       "    }\n",
       "</style>\n",
       "<table border=\"1\" class=\"dataframe\">\n",
       "  <thead>\n",
       "    <tr style=\"text-align: right;\">\n",
       "      <th></th>\n",
       "      <th>Dates</th>\n",
       "      <th>Prices</th>\n",
       "    </tr>\n",
       "  </thead>\n",
       "  <tbody>\n",
       "    <tr>\n",
       "      <th>0</th>\n",
       "      <td>2020-10-31</td>\n",
       "      <td>10.1</td>\n",
       "    </tr>\n",
       "    <tr>\n",
       "      <th>1</th>\n",
       "      <td>2020-11-30</td>\n",
       "      <td>10.3</td>\n",
       "    </tr>\n",
       "    <tr>\n",
       "      <th>2</th>\n",
       "      <td>2020-12-31</td>\n",
       "      <td>11.0</td>\n",
       "    </tr>\n",
       "    <tr>\n",
       "      <th>3</th>\n",
       "      <td>2021-01-31</td>\n",
       "      <td>10.9</td>\n",
       "    </tr>\n",
       "    <tr>\n",
       "      <th>4</th>\n",
       "      <td>2021-02-28</td>\n",
       "      <td>10.9</td>\n",
       "    </tr>\n",
       "  </tbody>\n",
       "</table>\n",
       "</div>"
      ],
      "text/plain": [
       "       Dates  Prices\n",
       "0 2020-10-31    10.1\n",
       "1 2020-11-30    10.3\n",
       "2 2020-12-31    11.0\n",
       "3 2021-01-31    10.9\n",
       "4 2021-02-28    10.9"
      ]
     },
     "execution_count": 36,
     "metadata": {},
     "output_type": "execute_result"
    }
   ],
   "source": [
    "data.head()"
   ]
  },
  {
   "cell_type": "markdown",
   "id": "956efe64-8d26-498b-b5d2-907887d47bb1",
   "metadata": {},
   "source": [
    "## Workings"
   ]
  },
  {
   "cell_type": "code",
   "execution_count": 51,
   "id": "82a4491e-4c78-441f-b2f0-ba904e62c317",
   "metadata": {
    "tags": []
   },
   "outputs": [],
   "source": [
    "def last_day_of_month(date):\n",
    "    # Get the number of days in the month\n",
    "    _, num_days = calendar.monthrange(date.year, date.month)\n",
    "    \n",
    "    # Create a new date object for the last day of the month\n",
    "    last_day = dt.date(date.year, date.month, num_days)\n",
    "    return last_day"
   ]
  },
  {
   "cell_type": "code",
   "execution_count": 83,
   "id": "cfa0f15e-a597-4112-a4b0-29f8c6879ccc",
   "metadata": {
    "tags": []
   },
   "outputs": [],
   "source": [
    "# Redefining the prediction function\n",
    "def pred_val(date):\n",
    "    '''\n",
    "    Takes a date and predicts the price at the end of that month.\n",
    "    '''\n",
    "    # Date formatting\n",
    "    date = pd.to_datetime(date)\n",
    "    \n",
    "    date = last_day_of_month(date)\n",
    "    \n",
    "    # Prediction on the last day of the month\n",
    "    X = np.array(data[data[\"Dates\"].dt.month == date.month]['Dates'].dt.year).reshape(-1,1)\n",
    "    y = np.array(data[data[\"Dates\"].dt.month == date.month]['Prices'])\n",
    "    \n",
    "    model = LinearRegression()\n",
    "    model.fit(X,y)\n",
    "    price = model.predict([[date.year]])\n",
    "    p_price = round(float(price),2)\n",
    "\n",
    "    return p_price"
   ]
  },
  {
   "cell_type": "code",
   "execution_count": 84,
   "id": "cccc1ce0-3b84-400a-ac95-34d36cea44b5",
   "metadata": {
    "tags": []
   },
   "outputs": [
    {
     "data": {
      "text/plain": [
       "12.45"
      ]
     },
     "execution_count": 84,
     "metadata": {},
     "output_type": "execute_result"
    }
   ],
   "source": [
    "pred_val(\"2025-09-30\")"
   ]
  },
  {
   "cell_type": "code",
   "execution_count": 85,
   "id": "e4f9942b-cedb-4c97-87fc-6edf8d8b4ac3",
   "metadata": {
    "tags": []
   },
   "outputs": [],
   "source": [
    "def get_months(start, end):\n",
    "    from dateutil.relativedelta import relativedelta\n",
    "    from datetime import datetime\n",
    "    \n",
    "    start = datetime.strptime(start, '%Y-%m-%d')\n",
    "    end = datetime.strptime(end, '%Y-%m-%d')\n",
    "\n",
    "    months = []\n",
    "    current_date = start.replace(day=1)\n",
    "\n",
    "    while current_date <= end:\n",
    "        months.append(current_date.strftime('%Y-%m'))\n",
    "        current_date += relativedelta(months=1)\n",
    "    return months"
   ]
  },
  {
   "cell_type": "code",
   "execution_count": 126,
   "id": "0e330eca-ebf6-4fba-b5df-20e4662b1d84",
   "metadata": {
    "tags": []
   },
   "outputs": [],
   "source": [
    "# Final function\n",
    "def contract_calc(\n",
    "    injection_dates,\n",
    "    withdrawal_dates,\n",
    "    #price, # Not in the model as we can predict this using the previous model.\n",
    "    rate, # Assuming to be the volume for each trade\n",
    "    #max_store_vol, # Delimiting factor, not useful as we are not defining how much volume of natural gas we are taking\n",
    "    storage_cost_per_month # Assuming it to be a case where, when used it is paid. ELse no\n",
    "):\n",
    "    v = 0\n",
    "    months_list = []\n",
    "    \n",
    "    for i in range(len(injection_dates)):\n",
    "        # Price on dates\n",
    "        injection_price = pred_val(injection_dates[i])\n",
    "        print(f\"Injection price is: \", injection_price)\n",
    "        withdrawal_price = pred_val(withdrawal_dates[i])\n",
    "        print(f\"Withdrawal price is: \", withdrawal_price)\n",
    "        \n",
    "        diff_price = withdrawal_price - injection_price\n",
    "        \n",
    "        v += (diff_price*rate)\n",
    "        \n",
    "        # List of months \n",
    "        months_list.append(get_months(injection_dates[i], withdrawal_dates[i]))\n",
    "        \n",
    "    # Storage cost calculation\n",
    "    months = len(months_list[0])\n",
    "        \n",
    "    cost = storage_cost_per_month * months\n",
    "    \n",
    "    contract_value = v - cost\n",
    "    return contract_value"
   ]
  },
  {
   "cell_type": "code",
   "execution_count": 128,
   "id": "bf031b1b-430f-43f2-9873-9fe4f28990d0",
   "metadata": {
    "tags": []
   },
   "outputs": [
    {
     "name": "stdout",
     "output_type": "stream",
     "text": [
      "Injection price is:  12.08\n",
      "Withdrawal price is:  12.45\n"
     ]
    },
    {
     "data": {
      "text/plain": [
       "34.49999999999992"
      ]
     },
     "execution_count": 128,
     "metadata": {},
     "output_type": "execute_result"
    }
   ],
   "source": [
    "inject = ['2025-05-31']\n",
    "withd = ['2025-09-30']\n",
    "rate = 100\n",
    "stor = 0.5\n",
    "contract_calc(inject, withd, rate, stor)"
   ]
  }
 ],
 "metadata": {
  "kernelspec": {
   "display_name": "Python 3 (ipykernel)",
   "language": "python",
   "name": "python3"
  },
  "language_info": {
   "codemirror_mode": {
    "name": "ipython",
    "version": 3
   },
   "file_extension": ".py",
   "mimetype": "text/x-python",
   "name": "python",
   "nbconvert_exporter": "python",
   "pygments_lexer": "ipython3",
   "version": "3.12.3"
  }
 },
 "nbformat": 4,
 "nbformat_minor": 5
}
