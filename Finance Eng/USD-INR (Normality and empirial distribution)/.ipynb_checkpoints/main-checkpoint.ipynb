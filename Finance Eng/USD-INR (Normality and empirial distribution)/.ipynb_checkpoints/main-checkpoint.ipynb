{
 "cells": [
  {
   "cell_type": "markdown",
   "id": "4683c138-fb59-439e-b73e-e9b4fc96b28f",
   "metadata": {},
   "source": [
    "# Normality and empirical distribution of USD-INR"
   ]
  },
  {
   "cell_type": "markdown",
   "id": "e714ee64-427c-410b-85de-2a25f1049bae",
   "metadata": {},
   "source": [
    "## Checklist\n",
    "- [x] Fetch data\n",
    "- [x] Check normality\n",
    "    - [x] QQ-plot (visual)\n",
    "    - [x] Shapiro-wilk test\n",
    "- [x] Empirical distribution for the data, if not normal"
   ]
  },
  {
   "cell_type": "markdown",
   "id": "22eb6eb1-2b4f-4c6e-918e-7cc7a391f918",
   "metadata": {},
   "source": [
    "## Data fetching"
   ]
  },
  {
   "cell_type": "code",
   "execution_count": null,
   "id": "d8fe29aa-db97-4b03-b023-fc22240d01bf",
   "metadata": {},
   "outputs": [],
   "source": [
    "# Load libraries\n",
    "import yfinance as yf\n",
    "import pandas as pd\n",
    "import numpy as np\n",
    "import matplotlib.pyplot as plt\n",
    "import seaborn as sns\n",
    "from scipy import stats\n",
    "import statsmodels.api as sm\n",
    "from statsmodels.distributions.empirical_distribution import ECDF\n",
    "\n",
    "\n",
    "plt.rcParams[\"figure.figsize\"] = (16, 9)  # Standard size"
   ]
  },
  {
   "cell_type": "code",
   "execution_count": null,
   "id": "26ef72a9-265e-4952-a0be-ad871fe83e35",
   "metadata": {},
   "outputs": [],
   "source": [
    "# Fetching the data from yahoo finance\n",
    "ticker = \"INR=X\" \n",
    "start_date = \"2015-05-27\"\n",
    "end_date = \"2025-05-28\" # 5 years data + 1 day\n",
    "\n",
    "data = yf.download(ticker, start=start_date, end=end_date)\n",
    "data = data[['Close']]\n",
    "\n",
    "print(data.head())"
   ]
  },
  {
   "cell_type": "markdown",
   "id": "08ebe2cb-62ed-486c-927a-f6f447186156",
   "metadata": {
    "jp-MarkdownHeadingCollapsed": true
   },
   "source": [
    "## Normality check"
   ]
  },
  {
   "cell_type": "code",
   "execution_count": null,
   "id": "18879d2c-7c6a-4787-8b21-d41e34b89ecd",
   "metadata": {},
   "outputs": [],
   "source": [
    "# Calculating daily returns\n",
    "data['Log_Return'] = np.log(data['Close'] / data['Close'].shift(1))\n",
    "returns = data['Log_Return'].dropna() # Dropping first row\n",
    "#print(data.head())\n",
    "print(returns.head())"
   ]
  },
  {
   "cell_type": "code",
   "execution_count": null,
   "id": "9ee1cc89-caa8-4bb1-a34d-c8844d0e7928",
   "metadata": {},
   "outputs": [],
   "source": [
    "# EDA\n",
    "\n",
    "# Histogram\n",
    "sns.histplot(returns, kde=True, bins=50)\n",
    "plt.title('Histogram of INR-USD Daily Log Returns')\n",
    "plt.xlabel('Log Return')\n",
    "plt.ylabel('Frequency')\n",
    "plt.grid(True)\n",
    "plt.show()"
   ]
  },
  {
   "cell_type": "markdown",
   "id": "c52fe815-392f-49c3-829d-6dd37ee1f6c9",
   "metadata": {},
   "source": [
    "From the histogram it does seem like the data follows a normal distribution.\n",
    "We will investigate further with QQ-plot and the test"
   ]
  },
  {
   "cell_type": "code",
   "execution_count": null,
   "id": "c9ec20c7-b710-4ec6-addb-5376d67747b9",
   "metadata": {},
   "outputs": [],
   "source": [
    "# QQ-plot\n",
    "\n",
    "sm.qqplot(returns, line='s', fit=True) # \n",
    "plt.title('Q-Q Plot of INR-USD Daily Log Returns')\n",
    "plt.xlabel('Theoretical Quantiles')\n",
    "plt.ylabel('Sample Quantiles')\n",
    "plt.grid(True)\n",
    "plt.show()"
   ]
  },
  {
   "cell_type": "markdown",
   "id": "15ab6066-797a-4f1d-932b-a8fadca62e04",
   "metadata": {},
   "source": [
    "From the qq plot we can see the data is not perfectly normal, it has a lot of outlier data."
   ]
  },
  {
   "cell_type": "code",
   "execution_count": null,
   "id": "b50ddebf-49fc-4d17-8673-22883f0bd9f5",
   "metadata": {},
   "outputs": [],
   "source": [
    "# Shapiro-wilk test\n",
    "\n",
    "shapiro_test = stats.shapiro(returns)\n",
    "print(shapiro_test.statistic)\n",
    "print(shapiro_test.pvalue)\n",
    "print(f\"\\n\")\n",
    "\n",
    "if shapiro_test.pvalue < 0.05:\n",
    "    print(\"Conclusion: Reject the null hypothesis. The data is NOT normally distributed.\")\n",
    "else:\n",
    "    print(\"Conclusion: Fail to reject the null hypothesis. The data MAY be normally distributed.\")\n"
   ]
  },
  {
   "cell_type": "markdown",
   "id": "1d2eb7ac-2cf4-4d12-9433-45d0cb324e0c",
   "metadata": {},
   "source": [
    "So we can conclude the data is **not normally distributed**.\n"
   ]
  },
  {
   "cell_type": "markdown",
   "id": "4a5e1ff2-62a0-4f6e-ba1c-f8b437d0fd4d",
   "metadata": {
    "jp-MarkdownHeadingCollapsed": true
   },
   "source": [
    "## Empirical distribution"
   ]
  },
  {
   "cell_type": "code",
   "execution_count": null,
   "id": "846f775a-d517-4aff-82ff-80eddcc3fd04",
   "metadata": {},
   "outputs": [],
   "source": [
    "# Creating an empirical distribution\n",
    "ecdf = ECDF(returns)\n",
    "\n",
    "plt.plot(ecdf.x[1:], ecdf.y[1:], drawstyle=\"steps-post\")\n",
    "plt.xlabel(\"X\")\n",
    "plt.ylabel(\"Empirical Distribution\")\n",
    "plt.show()"
   ]
  }
 ],
 "metadata": {
  "kernelspec": {
   "display_name": "Python 3 (ipykernel)",
   "language": "python",
   "name": "python3"
  },
  "language_info": {
   "codemirror_mode": {
    "name": "ipython",
    "version": 3
   },
   "file_extension": ".py",
   "mimetype": "text/x-python",
   "name": "python",
   "nbconvert_exporter": "python",
   "pygments_lexer": "ipython3",
   "version": "3.12.3"
  }
 },
 "nbformat": 4,
 "nbformat_minor": 5
}
